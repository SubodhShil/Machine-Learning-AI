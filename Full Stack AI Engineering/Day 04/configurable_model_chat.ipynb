{
 "cells": [
  {
   "cell_type": "code",
   "execution_count": 44,
   "id": "acd9d464",
   "metadata": {},
   "outputs": [],
   "source": [
    "from langchain.chat_models import init_chat_model\n",
    "import os\n",
    "\n",
    "from dotenv import load_dotenv\n",
    "load_dotenv()\n",
    "\n",
    "os.environ[\"GOOGLE_API_KEY\"] = os.getenv(\"GEMINI_API_KEY\")\n",
    "os.environ[\"GROQ_API_KEY\"] = os.getenv(\"GROQ_API_KEY\")"
   ]
  },
  {
   "cell_type": "code",
   "execution_count": 50,
   "id": "3ef0bd78",
   "metadata": {},
   "outputs": [],
   "source": [
    "user_prompt = input(\"Prompt: \")"
   ]
  },
  {
   "cell_type": "code",
   "execution_count": 46,
   "id": "15c703d0",
   "metadata": {},
   "outputs": [],
   "source": [
    "gemini_model = init_chat_model(\n",
    "    \"gemini-2.5-pro\", model_provider=\"google_genai\", temperature=0\n",
    ")\n",
    "result = gemini_model.invoke([{\"role\": \"user\", \"content\": user_prompt}]).content"
   ]
  },
  {
   "cell_type": "code",
   "execution_count": 47,
   "id": "bff12785",
   "metadata": {},
   "outputs": [
    {
     "data": {
      "text/plain": [
       "'Of course! Here is a comprehensive overview of India, covering its key aspects from history and culture to its modern-day status.\\n\\n### **An Introduction to India**\\n\\nIndia, officially the **Republic of India**, is a country in South Asia of immense diversity, deep history, and profound global significance. It is a land of staggering contrasts, where ancient traditions coexist with modern technology, and serene spiritual landscapes sit alongside bustling, chaotic cities. As of 2023, it is the **world\\'s most populous country** and the **world\\'s largest democracy**.\\n\\n---\\n\\n### **Key Facts at a Glance**\\n\\n*   **Capital:** New Delhi\\n*   **Largest City:** Mumbai\\n*   **Population:** Over 1.4 billion\\n*   **Government:** Federal Parliamentary Republic\\n*   **Official Languages:** Hindi and English (plus 22 other officially recognized languages)\\n*   **Major Religions:** Hinduism (~80%), Islam (~14%), Christianity (~2.3%), Sikhism (~1.7%), Buddhism, Jainism\\n*   **Currency:** Indian Rupee (₹)\\n*   **Motto:** *Satyameva Jayate* (Sanskrit for \"Truth Alone Triumphs\")\\n\\n---\\n\\n### **Geography and Climate**\\n\\nIndia\\'s geography is incredibly diverse. It is home to:\\n*   **The Himalayas:** The world\\'s highest mountain range forms its northern border.\\n*   **The Indo-Gangetic Plain:** A vast, fertile plain fed by the Ganges, Indus, and Brahmaputra rivers, which is one of the most densely populated areas on Earth.\\n*   **The Thar Desert:** A large, arid region in the northwest.\\n*   **The Deccan Plateau:** A large triangular plateau in the south, flanked by the Western and Eastern Ghats mountain ranges.\\n*   **A Long Coastline:** Stretching over 7,500 kilometers, with the Arabian Sea to the west and the Bay of Bengal to the east.\\n\\nThe climate varies from tropical in the south to temperate and alpine in the Himalayan north. The **monsoon** season (roughly June to September) is a defining feature, bringing heavy rains that are crucial for agriculture.\\n\\n---\\n\\n### **A Glimpse into History**\\n\\nIndia\\'s history is one of the oldest in the world.\\n\\n*   **Ancient India:** Home to the **Indus Valley Civilization** (c. 3300–1300 BCE), one of the world\\'s first urban civilizations. This was followed by the Vedic Period, which laid the foundations of Hinduism.\\n*   **Classical Empires:** Great empires like the **Maurya Empire** (under Emperor Ashoka, who spread Buddhism) and the **Gupta Empire** (known as the \"Golden Age of India\" for its advances in science, mathematics, and art) flourished.\\n*   **Medieval India:** The arrival of Islam led to the establishment of the **Delhi Sultanate** and later the powerful **Mughal Empire**, which built iconic monuments like the **Taj Mahal**.\\n*   **Colonial Period:** European powers, primarily the British, established control from the 18th century. The British Raj ruled India for nearly 200 years.\\n*   **Independence:** Led by figures like **Mahatma Gandhi**, who pioneered non-violent resistance, India gained independence from Britain on **August 15, 1947**. The subcontinent was partitioned into India and Pakistan, a traumatic event that displaced millions.\\n\\n---\\n\\n### **Government and Politics**\\n\\nIndia is a stable, secular, and democratic republic.\\n*   It has a **parliamentary system** modeled on the British system.\\n*   The **President** is the head of state (a largely ceremonial role), while the **Prime Minister** is the head of government and holds the real executive power.\\n*   The Parliament is bicameral, consisting of the **Lok Sabha** (House of the People) and the **Rajya Sabha** (Council of States).\\n*   Its political landscape is vibrant and often noisy, with numerous national and regional parties.\\n\\n---\\n\\n### **Economy**\\n\\nIndia has one of the **world\\'s fastest-growing major economies**.\\n*   **Key Sectors:** The **services sector**, particularly Information Technology (IT) and business process outsourcing, is a major driver of the economy. **Agriculture** remains the largest employer, though its share of GDP has declined. **Manufacturing** is also a significant and growing sector.\\n*   **Strengths:** A young population (demographic dividend), a large English-speaking workforce, and a strong entrepreneurial culture.\\n*   **Challenges:** Despite its growth, India still faces significant challenges, including poverty, income inequality, bureaucratic hurdles, and the need for infrastructure development.\\n\\n---\\n\\n### **Culture and Society**\\n\\nThis is where India\\'s diversity is most apparent.\\n\\n*   **Languages:** There is no single \"Indian\" language. While Hindi is the most widely spoken, there are hundreds of languages and dialects. The Indian currency note, for instance, has its denomination written in 17 languages.\\n*   **Cuisine:** Indian food is famous worldwide for its sophisticated use of spices. It is incredibly regional. You\\'ll find wheat-based breads (naan, roti) and tandoori cooking in the north, while the south favors rice, lentils, and coconut-based curries.\\n*   **Cinema:** The Indian film industry, nicknamed **\"Bollywood\"** (for Hindi-language cinema based in Mumbai), is the largest in the world in terms of the number of films produced.\\n*   **Festivals:** India is often called the \"Land of Festivals.\" Major festivals include **Diwali** (the festival of lights), **Holi** (the festival of colors), **Eid**, and **Christmas**, celebrated with great enthusiasm by people of all communities.\\n*   **Family and Social Structure:** Family is the cornerstone of Indian society. Traditional joint family systems are still common, especially in rural areas. The ancient **caste system**, though officially outlawed, still has a lingering influence on social dynamics.\\n\\n---\\n\\n### **Modern India: A Land of Contrasts**\\n\\nToday\\'s India is a nation of incredible dynamism and complexity. It is a rising global power, a leader in technology, and a hub of innovation. At the same time, it grapples with deep-seated social and economic issues. It is a country where you can find a bullock cart on the same road as a luxury car, and where ancient rituals are practiced by people who write code for a living.\\n\\nIn essence, India is not just a country but a continent-sized civilization, a vibrant tapestry woven from countless threads of history, language, religion, and culture.'"
      ]
     },
     "execution_count": 47,
     "metadata": {},
     "output_type": "execute_result"
    }
   ],
   "source": [
    "result"
   ]
  },
  {
   "cell_type": "code",
   "execution_count": null,
   "id": "db98a5cb",
   "metadata": {},
   "outputs": [],
   "source": [
    "groq_model = init_chat_model(\n",
    "    \"openai/gpt-oss-120b\", model_provider=\"groq\", temperature=0\n",
    ")\n",
    "\n",
    "result = groq_model.invoke([{\"role\": \"user\", \"content\": user_prompt}]).content"
   ]
  },
  {
   "cell_type": "code",
   "execution_count": 54,
   "id": "9af52ff2",
   "metadata": {},
   "outputs": [
    {
     "data": {
      "text/plain": [
       "'Result provided by Groq model\\n\\n**Asia – A Quick Overview**\\n\\n| Aspect | Highlights |\\n|--------|-------------|\\n| **Geography** | • Largest continent – about 44.5\\u202fmillion\\u202fkm² (≈30\\u202f% of Earth’s land). <br>• Extends from the Mediterranean Sea in the west to the Pacific Ocean in the east, and from the Arctic Ocean in the north to the Indian Ocean in the south. <br>• Major physical features: Himalayas (home to Everest, 8,848\\u202fm), the Gobi and Taklamakan deserts, the Siberian tundra, the fertile Indo‑Gangetic Plain, the Mekong and Yangtze river basins, and the vast steppe of Central Asia. |\\n| **Population** | • ~4.8\\u202fbillion people (≈60\\u202f% of the world’s population). <br>• Most populous countries: China (~1.4\\u202fbn), India (~1.4\\u202fbn), Indonesia (~280\\u202fm), Pakistan (~240\\u202fm), Bangladesh (~170\\u202fm). <br>• Extremely diverse ethnic landscape: hundreds of language families (Sino‑Tibetan, Indo‑European, Austro‑Asiatic, Turkic, Dravidian, etc.). |\\n| **Political Structure** | • 49 UN‑member states (including Russia’s Asian portion, Turkey, Kazakhstan, etc.). <br>• Varied governance: democracies (Japan, India, South Korea), constitutional monarchies (Thailand, Malaysia), single‑party states (China, Vietnam, Laos), and hybrid regimes. <br>• Regional organisations: ASEAN, SAARC, Shanghai Cooperation Organisation (SCO), East Asian Summit, Gulf Cooperation Council (GCC). |\\n| **Economy** | • World’s largest combined GDP (≈$35\\u202ftrillion nominal, >\\u202f$60\\u202ftrillion PPP). <br>• Economic powerhouses: China (2nd globally), Japan (3rd), India (5th‑6th), South Korea, Singapore, Indonesia, Saudi Arabia. <br>• Key sectors: manufacturing (electronics, automobiles, textiles), services (finance, IT, tourism), natural resources (oil & gas in the Middle East, minerals in Central Asia, fisheries in Southeast Asia). |\\n| **Culture & Religion** | • Birthplace of major world religions: Hinduism, Buddhism, Jainism, Sikhism, Confucianism, Taoism, Shinto, and the majority of the world’s Muslim population. <br>• Rich artistic traditions: Chinese calligraphy, Indian classical dance, Japanese tea ceremony, Persian poetry, Korean hanbok, Indonesian gamelan, etc. <br>• Languages: Mandarin Chinese (≈1\\u202fbn speakers), Hindi‑Urdu, Arabic, Bengali, Japanese, Russian (in Siberia), Malay/Indonesian, Turkish, and many others. |\\n| **History in a Nutshell** | • Ancient cradles: Indus Valley, Mesopotamia, Yellow River (China), and the Fertile Crescent. <br>• Empires that shaped the world: Persian, Maurya, Gupta, Tang, Song, Mongol, Ottoman, Mughal, Tokugawa, Qing. <br>• Colonial era (16th‑20th\\u202fc): European powers controlled large swaths of South‑ and Southeast‑Asia; India, Indonesia, Vietnam, the Philippines, etc., gained independence after WWII. <br>• Post‑war era: rapid industrialization in East Asia (Japan’s “economic miracle,” “Four Asian Tigers”), Cold‑War divisions (Korea, Vietnam), and the rise of China as a global power. |\\n| **Key Challenges** | • Demographic shifts: aging populations in Japan, South Korea, China vs. youthful bulges in India, Pakistan, Bangladesh. <br>• Environmental pressures: air pollution, water scarcity, deforestation, climate‑change‑induced extreme weather, melting Arctic permafrost in Siberia. <br>• Geopolitics: territorial disputes (South China Sea, India‑China border), nuclear proliferation (North Korea, Iran’s influence), trade tensions, and the balance between US, China, and regional powers. |\\n| **Travel & Tourism Highlights** | • Natural wonders: Mount Fuji (Japan), Ha Long Bay (Vietnam), Angkor Wat (Cambodia), Taj\\u202fMahal (India), Borobudur (Indonesia), the Maldives, the Pamir Mountains (Tajikistan). <br>• Urban experiences: Tokyo, Shanghai, Singapore, Dubai, Bangkok, Seoul, Hong\\u202fKong, Istanbul. <br>• Cultural festivals: Diwali (India), Chinese New Year, Ramadan/Eid (across Muslim nations), Songkran (Thailand), Mid‑Autumn Festival, Nowruz (Iran, Central Asia). |\\n| **Fun Facts** | • Asia contains the world’s highest (Everest) and lowest (Dead Sea) points on land. <br>• The continent hosts the longest river (Yangtze, 6,300\\u202fkm) and the longest coastline (≈62,800\\u202fkm). <br>• More than 2,300\\u202flanguages are spoken in Papua New Guinea alone, the most linguistically diverse country on Earth. <br>• The Silk Road historically linked Asia with Europe, facilitating trade of silk, spices, ideas, and technology. |\\n\\n---\\n\\n### Quick “Starter Pack” for Learning More\\n\\n| Topic | Suggested Resources |\\n|-------|----------------------|\\n| **Geography** | *National Geographic Atlas of the World* (latest edition) – maps and satellite imagery. |\\n| **History** | *The Penguin History of Modern Asia* (R.\\u202fJ.\\u202fBarrett) – concise overview of 19th‑21st\\u202fc. events. |\\n| **Economics** | *Asia’s Rise: The Rise of the Asian Economies* (World Bank) – data and analysis. |\\n| **Culture** | *The Rough Guide to Asia* – travel guide with cultural notes. |\\n| **Current Affairs** | *The Economist* “Asia” section; *BBC Asia* news portal. |\\n| **Languages** | Duolingo, Memrise, or Coursera courses for Mandarin, Hindi, Arabic, Japanese, etc. |\\n\\n---\\n\\n### How to Dive Deeper\\n\\n1. **Pick a Sub‑Region** – Asia is often broken into East Asia, South Asia, Southeast Asia, Central Asia, and West Asia (the Middle East). Focusing on one area makes the scope manageable.\\n2. **Explore a Theme** – e.g., “Silk Road trade routes,” “Asian megacities,” “Biodiversity hotspots,” or “Contemporary Asian cinema.”\\n3. **Use Interactive Tools** – Google Earth for virtual tours, World Bank’s data visualizations, and the UN’s *World Population Prospects* for demographic trends.\\n4. **Connect with People** – Language exchange apps, cultural festivals in your city, or online forums (Reddit’s r/Asia, Stack Exchange’s History or Travel sites) can provide personal perspectives.\\n\\n---\\n\\n**Bottom line:** Asia is a continent of staggering scale and diversity—geographically, demographically, culturally, and economically. Whether you’re interested in ancient civilizations, cutting‑edge technology, vibrant street food scenes, or complex geopolitics, there’s a whole world to explore within its borders. Happy learning!'"
      ]
     },
     "execution_count": 54,
     "metadata": {},
     "output_type": "execute_result"
    }
   ],
   "source": [
    "result"
   ]
  },
  {
   "cell_type": "code",
   "execution_count": 55,
   "id": "e03ae2c3",
   "metadata": {},
   "outputs": [],
   "source": [
    "llm = init_chat_model(configurable_fields=[\"model\", \"model_provider\"])"
   ]
  },
  {
   "cell_type": "code",
   "execution_count": null,
   "id": "508ec8e6",
   "metadata": {},
   "outputs": [],
   "source": [
    "response = llm.invoke(\n",
    "    user_prompt,\n",
    "    config={\"configurable\": {\"model\": \"gemini-2.5-pro\", \"model_provider\": \"google_genai\"}}\n",
    ")"
   ]
  },
  {
   "cell_type": "code",
   "execution_count": 57,
   "id": "9db9cff0",
   "metadata": {},
   "outputs": [
    {
     "data": {
      "text/plain": [
       "'Of course! Telling you about Asia is like trying to describe an entire library in a single paragraph—it\\'s vast, complex, and full of incredible stories. Here is a comprehensive overview covering its key aspects.\\n\\n---\\n\\n### **Asia: A Continent of Superlatives**\\n\\nAsia is, by every measure, a continent of extremes and superlatives. It is the **largest and most populous continent** on Earth, home to more than half of the world\\'s population. It is a place where ancient traditions coexist with futuristic metropolises, and where the planet\\'s highest peaks meet its lowest points.\\n\\n---\\n\\n### **Key Facts at a Glance**\\n\\n*   **Area:** Approximately 44.6 million sq km (17.2 million sq mi), covering about 30% of Earth\\'s total land area.\\n*   **Population:** Over 4.7 billion people (roughly 60% of the world\\'s population).\\n*   **Number of Countries:** 49 UN-recognized countries.\\n*   **Most Populous Countries:** India and China (each with over 1.4 billion people).\\n*   **Largest Country (by area):** Russia (though a large part of its landmass is in Europe, the majority is in Asia). China is the largest country entirely within Asia.\\n\\n---\\n\\n### **Geography: A Land of Extremes**\\n\\nAsia\\'s geography is incredibly diverse, containing almost every type of climate and terrain imaginable.\\n\\n*   **Mountains:** It is home to the **Himalayas**, the world\\'s highest mountain range, which includes **Mount Everest**, the highest point on Earth. Other major ranges include the Karakoram, Tian Shan, and Ural Mountains (which form a traditional border with Europe).\\n*   **Rivers:** Major life-giving rivers have nurtured civilizations for millennia, including the **Yangtze** and **Yellow River** in China, the **Ganges** and **Indus** in South Asia, and the **Tigris** and **Euphrates** in West Asia (the \"Cradle of Civilization\").\\n*   **Deserts:** Vast deserts stretch across the continent, from the arid **Arabian Desert** in the west to the cold **Gobi Desert** in the east.\\n*   **Plateaus:** It features the massive **Tibetan Plateau**, often called \"the roof of the world\" due to its high altitude.\\n*   **Coastlines & Islands:** Asia has an incredibly long coastline bordering the Arctic, Pacific, and Indian Oceans. It also includes the world\\'s largest archipelagos, such as **Indonesia** and **Japan**.\\n\\n---\\n\\n### **Regions of Asia**\\n\\nBecause of its immense size and diversity, Asia is usually broken down into five major regions:\\n\\n1.  **East Asia:** Includes China, Japan, North Korea, South Korea, and Taiwan. This region is an economic powerhouse known for its technological innovation, ancient civilizations, and dense urban centers like Tokyo, Shanghai, and Seoul.\\n\\n2.  **Southeast Asia:** Comprises countries like Vietnam, Thailand, Indonesia, Malaysia, Singapore, and the Philippines. It\\'s known for its tropical climates, stunning beaches, lush rainforests, and a rich tapestry of cultures and cuisines.\\n\\n3.  **South Asia:** Often called the Indian Subcontinent, this region includes India, Pakistan, Bangladesh, Nepal, and Sri Lanka. It is one of the most densely populated regions on Earth, with deep historical roots and a vibrant mix of religions and languages.\\n\\n4.  **Central Asia:** Consists of \"the Stans\"—Kazakhstan, Uzbekistan, Turkmenistan, Kyrgyzstan, and Tajikistan. Historically, this was the heart of the **Silk Road**, a land of nomads, steppes, and ancient trading cities like Samarkand and Bukhara.\\n\\n5.  **West Asia (or the Middle East):** Includes countries like Saudi Arabia, Iran, Iraq, Turkey, and Israel. This region is the **birthplace of the three Abrahamic religions** (Judaism, Christianity, and Islam) and holds immense geopolitical and economic importance, largely due to its vast oil reserves.\\n\\n---\\n\\n### **People and Culture: A Tapestry of Humanity**\\n\\nAsia\\'s cultural diversity is its most defining feature.\\n\\n*   **Religions:** It is the birthplace of most of the world\\'s major religions, including **Hinduism, Buddhism, Confucianism, Taoism, Judaism, Christianity, and Islam**. All of these continue to have a profound influence on global culture.\\n*   **Languages:** Thousands of languages are spoken across Asia. Major language families include Sino-Tibetan (e.g., Mandarin, Burmese), Indo-European (e.g., Hindi, Persian), and Austronesian (e.g., Malay, Tagalog).\\n*   **Cuisine:** The food is as diverse as its people. From the delicate sushi of Japan and the fiery curries of India to the fresh herbs of Vietnamese pho and the savory kebabs of West Asia, Asian cuisine is celebrated worldwide.\\n*   **Art and Architecture:** From the Great Wall of China and the Taj Mahal in India to the temples of Angkor Wat in Cambodia and the futuristic skyscrapers of Dubai and Singapore, Asia\\'s architectural wonders span millennia.\\n\\n---\\n\\n### **Economy: A Global Engine**\\n\\nAsia is the fastest-growing economic region in the world. It is a continent of stark contrasts:\\n\\n*   **Economic Giants:** **China** has risen to become the world\\'s second-largest economy. **Japan** is a global leader in technology and automotive manufacturing. **India** has a rapidly growing tech and service sector.\\n*   **Manufacturing Hub:** For decades, Asia has been the \"world\\'s factory,\" producing everything from textiles and electronics to cars and ships.\\n*   **Developing Nations:** Alongside these powerhouses are many developing economies that are experiencing rapid growth but also face challenges like poverty and infrastructure development.\\n*   **Natural Resources:** The continent is rich in natural resources, including oil and natural gas in West and Central Asia, and minerals and timber in Southeast Asia.\\n\\n---\\n\\n### **History: The Cradle of Civilization**\\n\\nAsia\\'s history is the history of humanity itself.\\n\\n*   **Ancient Civilizations:** The world\\'s earliest civilizations emerged here, in **Mesopotamia** (modern-day Iraq), the **Indus Valley** (Pakistan/India), and along the **Yellow River** in China.\\n*   **Empires and Dynasties:** Great empires like the Persian, Mauryan, Han, Roman (its eastern part), Mongol, and Ottoman empires rose and fell, shaping the course of world history.\\n*   **The Silk Road:** This ancient network of trade routes connected the East and West for centuries, facilitating the exchange of goods, ideas, religions, and technologies.\\n*   **Colonialism and Independence:** In the 18th and 19th centuries, many parts of Asia fell under European colonial rule. The 20th century was marked by movements for independence and nation-building, which have shaped the continent\\'s modern political landscape.\\n\\nIn summary, Asia is not just a place on a map. It\\'s a dynamic, complex, and vital continent that has shaped our past and will undoubtedly define our future.'"
      ]
     },
     "execution_count": 57,
     "metadata": {},
     "output_type": "execute_result"
    }
   ],
   "source": [
    "response.content"
   ]
  }
 ],
 "metadata": {
  "kernelspec": {
   "display_name": "venv",
   "language": "python",
   "name": "python3"
  },
  "language_info": {
   "codemirror_mode": {
    "name": "ipython",
    "version": 3
   },
   "file_extension": ".py",
   "mimetype": "text/x-python",
   "name": "python",
   "nbconvert_exporter": "python",
   "pygments_lexer": "ipython3",
   "version": "3.13.4"
  }
 },
 "nbformat": 4,
 "nbformat_minor": 5
}
