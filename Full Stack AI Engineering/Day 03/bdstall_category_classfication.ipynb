{
 "cells": [
  {
   "cell_type": "code",
   "execution_count": 4,
   "id": "58f7e194",
   "metadata": {},
   "outputs": [],
   "source": [
    "def classify_category(category: str) -> str:\n",
    "    \"\"\"\n",
    "    Classify the given category as either \"E-commerce\" or \"Classified\"\n",
    "    based on predefined criteria.\n",
    "\n",
    "    Parameters:\n",
    "    category (str): The product or service category to classify.\n",
    "\n",
    "    Returns:\n",
    "    str: The classification result (\"E-commerce\" or \"Classified\").\n",
    "    \"\"\"\n",
    "\n",
    "    PROMPT_TEMPLATE = f\"\"\"\n",
    "    Role: Act as an expert marketplace analyst with specialized knowledge in category management for platforms like BDstall.com.\n",
    "\n",
    "    Objective: Analyze the provided list of product and service categories. For each item, classify it as either \"E-commerce\" or \"Classified\" based on the detailed criteria below.\n",
    "\n",
    "    Primary Classification Mandate:\n",
    "    The classification must be based on the item's physical size, typical purchase frequency (Lifetime Value - LTV), and the nature of the transaction (direct purchase vs. service/negotiation-based).\n",
    "\n",
    "    Classification Criteria:\n",
    "\n",
    "    1. Classify as \"Classified\" if the item meets ANY of the following conditions:\n",
    "    * Nature: It is a service, rental, real estate, or a job posting.\n",
    "    * Size & Value: It is a large, high-value item that typically requires physical inspection, delivery logistics, or installation (e.g., heavy machinery, vehicles, large appliances).\n",
    "    * LTV (Lifetime Value): It is a one-time or very infrequent purchase for the average customer (LTV is approximately 1).\n",
    "    * Keywords: Rent, Service, Repair, Land, Flat, Apartment, Vehicle, Car, Generator, Lift, Elevator, Installation, Used (for large items), Job, Tour.\n",
    "    * Examples: Refrigerator, Air Conditioner, Generator, Elevator, Car, Land, Apartment for Rent, AC Repair Service, Web Design Service, Used Furniture.\n",
    "\n",
    "    2. Classify as \"E-commerce\" if the item meets ALL of the following conditions:\n",
    "    * Nature: It is a tangible product that can be easily packaged and shipped.\n",
    "    * Size & Value: It is typically small to medium in size and suitable for a standard \"add-to-cart\" online shopping experience.\n",
    "    * LTV (Lifetime Value): It has the potential for repeat purchases or a higher customer lifetime value (e.g., fashion, accessories, consumables, gadgets).\n",
    "    * Keywords: Mobile, Laptop, Watch, Trimmer, Cosmetics, Shirt, Belt, Accessories, RAM, Keyboard, Mouse, Headphone, Book.\n",
    "    * Examples: Smartwatch, Trimmer, Cosmetics, T-Shirt, Belt, Laptop Accessories, RAM, Mobile Phone, Office Chair.\n",
    "\n",
    "    Input Format:\n",
    "    You will receive a single string as category input.\n",
    "    Now evaluate the whether it is \"Classified\" or \"E-commerce\" based on the above criteria.\n",
    "\n",
    "    Output Format (Strict JSON):\n",
    "    {\n",
    "        \"Classified\": \"YES / NO\", \n",
    "        \"E-commerce\": \"YES / NO\"\n",
    "    }\n",
    "\n",
    "    Task:\n",
    "    Now, process the category: \"{category}\"\n",
    "    \"\"\"\n",
    "\n",
    "    return PROMPT_TEMPLATE"
   ]
  },
  {
   "cell_type": "code",
   "execution_count": null,
   "id": "642015c5",
   "metadata": {},
   "outputs": [],
   "source": [
    "import pandas as pd\n",
    "\n",
    "input_file_location = \"D:\\\\My Learning\\\\Machine-Learning-AI\\\\Full Stack AI Engineering\\\\Day 03\\\\bdstall_item_categories.csv\"\n",
    "\n",
    "df = pd.read_csv(input_file_location) "
   ]
  },
  {
   "cell_type": "code",
   "execution_count": 17,
   "id": "c97714f5",
   "metadata": {},
   "outputs": [
    {
     "name": "stdout",
     "output_type": "stream",
     "text": [
      "<class 'pandas.core.frame.DataFrame'>\n",
      "RangeIndex: 575 entries, 0 to 574\n",
      "Data columns (total 5 columns):\n",
      " #   Column         Non-Null Count  Dtype  \n",
      "---  ------         --------------  -----  \n",
      " 0   Serial No.     575 non-null    int64  \n",
      " 1   Category Name  70 non-null     object \n",
      " 2   Item List      565 non-null    object \n",
      " 3   Classified     0 non-null      float64\n",
      " 4   E-commerce     0 non-null      float64\n",
      "dtypes: float64(2), int64(1), object(2)\n",
      "memory usage: 22.6+ KB\n"
     ]
    }
   ],
   "source": [
    "df.info()"
   ]
  },
  {
   "cell_type": "code",
   "execution_count": null,
   "id": "c42c0e67",
   "metadata": {},
   "outputs": [],
   "source": [
    "df.columns = df.columns.str.strip()\n",
    "all_item_list = df['Item List']"
   ]
  },
  {
   "cell_type": "code",
   "execution_count": null,
   "id": "71eb3b00",
   "metadata": {},
   "outputs": [],
   "source": [
    "# iterates over all non-empty items in the 'Item List' column\n",
    "def iterate_all_items():\n",
    "    non_empty_items = df['Item List'].dropna().apply(lambda x: x.strip() if isinstance(x, str) else x)\n",
    "    non_empty_items = non_empty_items[non_empty_items != '']\n",
    "\n",
    "    # Iterate over the non-empty values\n",
    "    cnt = 0\n",
    "    for item in non_empty_items:\n",
    "        cnt += 1\n",
    "        print(item)\n",
    "\n",
    "    print(f\"Total non-empty items: {cnt}\")"
   ]
  },
  {
   "cell_type": "markdown",
   "id": "ed22050f",
   "metadata": {},
   "source": [
    "## Configure the LLM (Groq)"
   ]
  },
  {
   "cell_type": "code",
   "execution_count": null,
   "id": "5bde78d1",
   "metadata": {},
   "outputs": [],
   "source": [
    "def get_ai_classification(prompt) -> str:\n",
    "\n",
    "    from groq import Groq\n",
    "\n",
    "    client = Groq()\n",
    "    completion = client.chat.completions.create(\n",
    "        model=\"meta-llama/llama-4-scout-17b-16e-instruct\",\n",
    "        messages=[\n",
    "        {\n",
    "            \"role\": \"user\",\n",
    "            \"content\": classify_category\n",
    "        }\n",
    "        ],\n",
    "        temperature=1,\n",
    "        max_completion_tokens=1024,\n",
    "        top_p=1,\n",
    "        stream=True,\n",
    "        stop=None\n",
    "    )\n",
    "\n",
    "    for chunk in completion:\n",
    "        print(chunk.choices[0].delta.content or \"\", end=\"\")\n"
   ]
  }
 ],
 "metadata": {
  "kernelspec": {
   "display_name": "venv",
   "language": "python",
   "name": "python3"
  },
  "language_info": {
   "codemirror_mode": {
    "name": "ipython",
    "version": 3
   },
   "file_extension": ".py",
   "mimetype": "text/x-python",
   "name": "python",
   "nbconvert_exporter": "python",
   "pygments_lexer": "ipython3",
   "version": "3.11.9"
  }
 },
 "nbformat": 4,
 "nbformat_minor": 5
}
