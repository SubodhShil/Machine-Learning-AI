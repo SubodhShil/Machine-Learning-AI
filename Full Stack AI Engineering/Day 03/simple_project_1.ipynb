{
 "cells": [
  {
   "cell_type": "code",
   "execution_count": 42,
   "id": "ce9ce937",
   "metadata": {},
   "outputs": [],
   "source": [
    "from dotenv import load_dotenv\n",
    "load_dotenv()\n",
    "import os\n",
    "\n",
    "groq_api_key = os.getenv(\"GROQ_API_KEY\")"
   ]
  },
  {
   "cell_type": "markdown",
   "id": "af655682",
   "metadata": {},
   "source": [
    "## Data Ingestion"
   ]
  },
  {
   "cell_type": "code",
   "execution_count": 43,
   "id": "e2cef866",
   "metadata": {},
   "outputs": [
    {
     "data": {
      "text/plain": [
       "[Document(metadata={'source': 'https://www.bbc.com/news/articles/c5y8nr1dg54o', 'title': \"World's first resort hospital opens in global gambling hub Macau\", 'description': 'Macau is trying to diversify its economy away from gaming to become a major centre for healthcare tourism.', 'language': 'en-GB'}, page_content='World\\'s first resort hospital opens in global gambling hub MacauSkip to contentBritish Broadcasting CorporationHomeNewsSportBusinessInnovationCultureArtsTravelEarthAudioVideoLiveHomeNewsIsrael-Gaza WarWar in UkraineUS & CanadaUKUK PoliticsEnglandN. IrelandN. Ireland PoliticsScotlandScotland PoliticsWalesWales PoliticsAfricaAsiaChinaIndiaAustraliaEuropeLatin AmericaMiddle EastIn PicturesBBC InDepthBBC VerifySportBusinessExecutive LoungeTechnology of BusinessFuture of BusinessInnovationTechnologyScience & HealthArtificial IntelligenceAI v the MindCultureFilm & TVMusicArt & DesignStyleBooksEntertainment NewsArtsArts in MotionTravelDestinationsAfricaAntarcticaAsiaAustralia and PacificCaribbean & BermudaCentral AmericaEuropeMiddle EastNorth AmericaSouth AmericaWorld’s TableCulture & ExperiencesAdventuresThe SpeciaListTo the Ends of The Earth\\xa0EarthNatural WondersWeather & ScienceClimate SolutionsSustainable BusinessGreen LivingAudioPodcast CategoriesRadioAudio FAQsVideoBBC MaestroLiveLive NewsLive SportHomeNewsSportBusinessInnovationCultureArtsTravelEarthAudioVideoLiveWeatherNewslettersWorld\\'s first resort hospital opens in gambling hub Macau50 minutes agoShareSaveOsmond ChiaBusiness reporterShareSaveMelco ResortsStudio City is a Hollywood-themed resort in MacauMacau, which overtook Las Vegas almost 20 years ago as the world\\'s biggest gambling hub, is now trying to become a major centre for healthcare tourism.The special administrative region of China saw the opening this week of the first ever resort hospital to provide health screening, advanced scans and cosmetic procedures, as part of its luxury medical services.The facility is located in Macau\\'s Studio City, a Hollywood-themed casino and entertainment resort owned by Hong Kong-based Melco Resorts and Entertainment.The project aims to promote medical tourism in Macau, create jobs and bring healthcare and leisure under one roof, said the resort chain\\'s chief executive Lawrence Ho.The facility was opened in partnership with iRad Hospital, a private healthcare group in Hong Kong that specialises in MRI (Magnetic Resonance Imaging) scans.The \"revolutionary\" concept aims to attract regional and foreign visitors, encouraging longer stays and higher spending in the resort and the city, said Melco Resorts in a statement.Macau, which attracts almost 40 million visitors a year, offers an \"unparalleled opportunity\" to become a leading destination for medical tourism, said iRad\\'s honorary chairman, Dennis Tam.The hospital project fits with Macau\\'s economic diversification plans, said Mr Ho.The region has capitalised on its long history as a gambling centre, drawing visitors from mainland China, Hong Kong and other parts of Asia.Macau\\'s gaming boom began in the early 2000s when authorities opened its gambling market to global casino operators.Since overtaking Las Vegas in gambling earnings Macau has has struggled to expand its economy beyond entertainment.Today, gaming-related taxes account for the majority of Macau government revenue.Macau\\'s gambling-focused economy was hit hard when the Covid-19 pandemic forced the closure of its casinos, which sent revenues plunging.While it has now recovered, officials have been working to diversify Macau\\'s economy away from gambling and to develop industries such as healthcare, technology and events.The global medical tourism industry is worth tens of billions of dollars and is projected to grow significantly over the next decade, according to market estimates.Asia has emerged as a major hub for medical tourism, with wealthy patients heading to South Korea for cosmetic surgeries and to Singapore\\'s private hospitals for advanced medical treatments.India\\'s hospitals are also popular destinations for medical tourists, offering cheaper treatments compared to Western countries.Meanwhile, Turkey has become known for affordable medical procedures, including transplants and dentistry.International BusinessTravelHospitality industryMacauRelatedGold surges past $4,000 an ounce as uncertainty fuels rallyVape boss says allowing \\'strict\\' ads would help smokers quitChinese EV giant BYD sees UK sales soar by 880%More from the BBC55 mins agoPartial wall collapse closes road for two monthsWork to repair the wall on Church Hill in Laxey is expected to take until the end of November.55 mins ago11 hrs agoIrish government announces Derry to Dublin flights The announcement was made by the Irish government as part of their 2026 budget.11 hrs ago18 hrs agoMore holidaymakers using AI to plan tripsAsking family and friends for recommendations and using guidebooks remain popular ways to plan a holiday, according to a new report from APTA. 18 hrs ago1 day agoShortage of chefs caused by \\'perfect storm\\'The Oxford Guild of Chefs is warning it is independent restaurants that are being hardest hit.1 day ago2 days agoAirport revamp sees 74% rise in passenger seatingThe lounge overhaul means \"people do not end up sitting on the floor\", infrastructure minister says.2 days agoBritish Broadcasting CorporationHomeNewsSportBusinessInnovationCultureArtsTravelEarthAudioVideoLiveWeatherBBC ShopBritBoxBBC in other languagesFollow BBC on:Terms of UseSubscription TermsAbout the BBCPrivacy PolicyCookiesAccessibility HelpContact the BBCAdvertise with usDo not share or sell my infoBBC.com Help & FAQsContent IndexCopyright 2025 BBC. All rights reserved. The BBC is not responsible for the content of external sites.\\xa0Read about our approach to external linking.\\xa0')]"
      ]
     },
     "execution_count": 43,
     "metadata": {},
     "output_type": "execute_result"
    }
   ],
   "source": [
    "from langchain_community.document_loaders import WebBaseLoader\n",
    "\n",
    "URL = \"https://www.bbc.com/news/articles/c5y8nr1dg54o\"\n",
    "webLoader = WebBaseLoader(URL)\n",
    "docs = webLoader.load()\n",
    "docs "
   ]
  },
  {
   "cell_type": "code",
   "execution_count": 44,
   "id": "d634a12c",
   "metadata": {},
   "outputs": [
    {
     "data": {
      "text/plain": [
       "'World\\'s first resort hospital opens in global gambling hub MacauSkip to contentBritish Broadcasting CorporationHomeNewsSportBusinessInnovationCultureArtsTravelEarthAudioVideoLiveHomeNewsIsrael-Gaza WarWar in UkraineUS & CanadaUKUK PoliticsEnglandN. IrelandN. Ireland PoliticsScotlandScotland PoliticsWalesWales PoliticsAfricaAsiaChinaIndiaAustraliaEuropeLatin AmericaMiddle EastIn PicturesBBC InDepthBBC VerifySportBusinessExecutive LoungeTechnology of BusinessFuture of BusinessInnovationTechnologyScience & HealthArtificial IntelligenceAI v the MindCultureFilm & TVMusicArt & DesignStyleBooksEntertainment NewsArtsArts in MotionTravelDestinationsAfricaAntarcticaAsiaAustralia and PacificCaribbean & BermudaCentral AmericaEuropeMiddle EastNorth AmericaSouth AmericaWorld’s TableCulture & ExperiencesAdventuresThe SpeciaListTo the Ends of The Earth\\xa0EarthNatural WondersWeather & ScienceClimate SolutionsSustainable BusinessGreen LivingAudioPodcast CategoriesRadioAudio FAQsVideoBBC MaestroLiveLive NewsLive SportHomeNewsSportBusinessInnovationCultureArtsTravelEarthAudioVideoLiveWeatherNewslettersWorld\\'s first resort hospital opens in gambling hub Macau50 minutes agoShareSaveOsmond ChiaBusiness reporterShareSaveMelco ResortsStudio City is a Hollywood-themed resort in MacauMacau, which overtook Las Vegas almost 20 years ago as the world\\'s biggest gambling hub, is now trying to become a major centre for healthcare tourism.The special administrative region of China saw the opening this week of the first ever resort hospital to provide health screening, advanced scans and cosmetic procedures, as part of its luxury medical services.The facility is located in Macau\\'s Studio City, a Hollywood-themed casino and entertainment resort owned by Hong Kong-based Melco Resorts and Entertainment.The project aims to promote medical tourism in Macau, create jobs and bring healthcare and leisure under one roof, said the resort chain\\'s chief executive Lawrence Ho.The facility was opened in partnership with iRad Hospital, a private healthcare group in Hong Kong that specialises in MRI (Magnetic Resonance Imaging) scans.The \"revolutionary\" concept aims to attract regional and foreign visitors, encouraging longer stays and higher spending in the resort and the city, said Melco Resorts in a statement.Macau, which attracts almost 40 million visitors a year, offers an \"unparalleled opportunity\" to become a leading destination for medical tourism, said iRad\\'s honorary chairman, Dennis Tam.The hospital project fits with Macau\\'s economic diversification plans, said Mr Ho.The region has capitalised on its long history as a gambling centre, drawing visitors from mainland China, Hong Kong and other parts of Asia.Macau\\'s gaming boom began in the early 2000s when authorities opened its gambling market to global casino operators.Since overtaking Las Vegas in gambling earnings Macau has has struggled to expand its economy beyond entertainment.Today, gaming-related taxes account for the majority of Macau government revenue.Macau\\'s gambling-focused economy was hit hard when the Covid-19 pandemic forced the closure of its casinos, which sent revenues plunging.While it has now recovered, officials have been working to diversify Macau\\'s economy away from gambling and to develop industries such as healthcare, technology and events.The global medical tourism industry is worth tens of billions of dollars and is projected to grow significantly over the next decade, according to market estimates.Asia has emerged as a major hub for medical tourism, with wealthy patients heading to South Korea for cosmetic surgeries and to Singapore\\'s private hospitals for advanced medical treatments.India\\'s hospitals are also popular destinations for medical tourists, offering cheaper treatments compared to Western countries.Meanwhile, Turkey has become known for affordable medical procedures, including transplants and dentistry.International BusinessTravelHospitality industryMacauRelatedGold surges past $4,000 an ounce as uncertainty fuels rallyVape boss says allowing \\'strict\\' ads would help smokers quitChinese EV giant BYD sees UK sales soar by 880%More from the BBC55 mins agoPartial wall collapse closes road for two monthsWork to repair the wall on Church Hill in Laxey is expected to take until the end of November.55 mins ago11 hrs agoIrish government announces Derry to Dublin flights The announcement was made by the Irish government as part of their 2026 budget.11 hrs ago18 hrs agoMore holidaymakers using AI to plan tripsAsking family and friends for recommendations and using guidebooks remain popular ways to plan a holiday, according to a new report from APTA. 18 hrs ago1 day agoShortage of chefs caused by \\'perfect storm\\'The Oxford Guild of Chefs is warning it is independent restaurants that are being hardest hit.1 day ago2 days agoAirport revamp sees 74% rise in passenger seatingThe lounge overhaul means \"people do not end up sitting on the floor\", infrastructure minister says.2 days agoBritish Broadcasting CorporationHomeNewsSportBusinessInnovationCultureArtsTravelEarthAudioVideoLiveWeatherBBC ShopBritBoxBBC in other languagesFollow BBC on:Terms of UseSubscription TermsAbout the BBCPrivacy PolicyCookiesAccessibility HelpContact the BBCAdvertise with usDo not share or sell my infoBBC.com Help & FAQsContent IndexCopyright 2025 BBC. All rights reserved. The BBC is not responsible for the content of external sites.\\xa0Read about our approach to external linking.\\xa0'"
      ]
     },
     "execution_count": 44,
     "metadata": {},
     "output_type": "execute_result"
    }
   ],
   "source": [
    "docs[0].page_content"
   ]
  },
  {
   "cell_type": "markdown",
   "id": "3d3030a0",
   "metadata": {},
   "source": [
    "### Chunking"
   ]
  },
  {
   "cell_type": "code",
   "execution_count": 45,
   "id": "206c0cc6",
   "metadata": {},
   "outputs": [],
   "source": [
    "from langchain_text_splitters import RecursiveCharacterTextSplitter\n",
    "text_splitter = RecursiveCharacterTextSplitter(chunk_size = 1000, chunk_overlap = 50)"
   ]
  },
  {
   "cell_type": "code",
   "execution_count": 46,
   "id": "9ab89a84",
   "metadata": {},
   "outputs": [],
   "source": [
    "splitted_docs = text_splitter.split_documents(docs)"
   ]
  },
  {
   "cell_type": "code",
   "execution_count": 47,
   "id": "7155a4ef",
   "metadata": {},
   "outputs": [
    {
     "data": {
      "text/plain": [
       "[Document(metadata={'source': 'https://www.bbc.com/news/articles/c5y8nr1dg54o', 'title': \"World's first resort hospital opens in global gambling hub Macau\", 'description': 'Macau is trying to diversify its economy away from gaming to become a major centre for healthcare tourism.', 'language': 'en-GB'}, page_content=\"World's first resort hospital opens in global gambling hub MacauSkip to contentBritish Broadcasting CorporationHomeNewsSportBusinessInnovationCultureArtsTravelEarthAudioVideoLiveHomeNewsIsrael-Gaza WarWar in UkraineUS & CanadaUKUK PoliticsEnglandN. IrelandN. Ireland PoliticsScotlandScotland PoliticsWalesWales PoliticsAfricaAsiaChinaIndiaAustraliaEuropeLatin AmericaMiddle EastIn PicturesBBC InDepthBBC VerifySportBusinessExecutive LoungeTechnology of BusinessFuture of BusinessInnovationTechnologyScience & HealthArtificial IntelligenceAI v the MindCultureFilm & TVMusicArt & DesignStyleBooksEntertainment NewsArtsArts in MotionTravelDestinationsAfricaAntarcticaAsiaAustralia and PacificCaribbean & BermudaCentral AmericaEuropeMiddle EastNorth AmericaSouth AmericaWorld’s TableCulture & ExperiencesAdventuresThe SpeciaListTo the Ends of The Earth\\xa0EarthNatural WondersWeather & ScienceClimate SolutionsSustainable BusinessGreen LivingAudioPodcast CategoriesRadioAudio FAQsVideoBBC MaestroLiveLive\"),\n",
       " Document(metadata={'source': 'https://www.bbc.com/news/articles/c5y8nr1dg54o', 'title': \"World's first resort hospital opens in global gambling hub Macau\", 'description': 'Macau is trying to diversify its economy away from gaming to become a major centre for healthcare tourism.', 'language': 'en-GB'}, page_content=\"CategoriesRadioAudio FAQsVideoBBC MaestroLiveLive NewsLive SportHomeNewsSportBusinessInnovationCultureArtsTravelEarthAudioVideoLiveWeatherNewslettersWorld's first resort hospital opens in gambling hub Macau50 minutes agoShareSaveOsmond ChiaBusiness reporterShareSaveMelco ResortsStudio City is a Hollywood-themed resort in MacauMacau, which overtook Las Vegas almost 20 years ago as the world's biggest gambling hub, is now trying to become a major centre for healthcare tourism.The special administrative region of China saw the opening this week of the first ever resort hospital to provide health screening, advanced scans and cosmetic procedures, as part of its luxury medical services.The facility is located in Macau's Studio City, a Hollywood-themed casino and entertainment resort owned by Hong Kong-based Melco Resorts and Entertainment.The project aims to promote medical tourism in Macau, create jobs and bring healthcare and leisure under one roof, said the resort chain's chief\"),\n",
       " Document(metadata={'source': 'https://www.bbc.com/news/articles/c5y8nr1dg54o', 'title': \"World's first resort hospital opens in global gambling hub Macau\", 'description': 'Macau is trying to diversify its economy away from gaming to become a major centre for healthcare tourism.', 'language': 'en-GB'}, page_content='under one roof, said the resort chain\\'s chief executive Lawrence Ho.The facility was opened in partnership with iRad Hospital, a private healthcare group in Hong Kong that specialises in MRI (Magnetic Resonance Imaging) scans.The \"revolutionary\" concept aims to attract regional and foreign visitors, encouraging longer stays and higher spending in the resort and the city, said Melco Resorts in a statement.Macau, which attracts almost 40 million visitors a year, offers an \"unparalleled opportunity\" to become a leading destination for medical tourism, said iRad\\'s honorary chairman, Dennis Tam.The hospital project fits with Macau\\'s economic diversification plans, said Mr Ho.The region has capitalised on its long history as a gambling centre, drawing visitors from mainland China, Hong Kong and other parts of Asia.Macau\\'s gaming boom began in the early 2000s when authorities opened its gambling market to global casino operators.Since overtaking Las Vegas in gambling earnings Macau has has'),\n",
       " Document(metadata={'source': 'https://www.bbc.com/news/articles/c5y8nr1dg54o', 'title': \"World's first resort hospital opens in global gambling hub Macau\", 'description': 'Macau is trying to diversify its economy away from gaming to become a major centre for healthcare tourism.', 'language': 'en-GB'}, page_content=\"Las Vegas in gambling earnings Macau has has struggled to expand its economy beyond entertainment.Today, gaming-related taxes account for the majority of Macau government revenue.Macau's gambling-focused economy was hit hard when the Covid-19 pandemic forced the closure of its casinos, which sent revenues plunging.While it has now recovered, officials have been working to diversify Macau's economy away from gambling and to develop industries such as healthcare, technology and events.The global medical tourism industry is worth tens of billions of dollars and is projected to grow significantly over the next decade, according to market estimates.Asia has emerged as a major hub for medical tourism, with wealthy patients heading to South Korea for cosmetic surgeries and to Singapore's private hospitals for advanced medical treatments.India's hospitals are also popular destinations for medical tourists, offering cheaper treatments compared to Western countries.Meanwhile, Turkey has become\"),\n",
       " Document(metadata={'source': 'https://www.bbc.com/news/articles/c5y8nr1dg54o', 'title': \"World's first resort hospital opens in global gambling hub Macau\", 'description': 'Macau is trying to diversify its economy away from gaming to become a major centre for healthcare tourism.', 'language': 'en-GB'}, page_content=\"to Western countries.Meanwhile, Turkey has become known for affordable medical procedures, including transplants and dentistry.International BusinessTravelHospitality industryMacauRelatedGold surges past $4,000 an ounce as uncertainty fuels rallyVape boss says allowing 'strict' ads would help smokers quitChinese EV giant BYD sees UK sales soar by 880%More from the BBC55 mins agoPartial wall collapse closes road for two monthsWork to repair the wall on Church Hill in Laxey is expected to take until the end of November.55 mins ago11 hrs agoIrish government announces Derry to Dublin flights The announcement was made by the Irish government as part of their 2026 budget.11 hrs ago18 hrs agoMore holidaymakers using AI to plan tripsAsking family and friends for recommendations and using guidebooks remain popular ways to plan a holiday, according to a new report from APTA. 18 hrs ago1 day agoShortage of chefs caused by 'perfect storm'The Oxford Guild of Chefs is warning it is independent\"),\n",
       " Document(metadata={'source': 'https://www.bbc.com/news/articles/c5y8nr1dg54o', 'title': \"World's first resort hospital opens in global gambling hub Macau\", 'description': 'Macau is trying to diversify its economy away from gaming to become a major centre for healthcare tourism.', 'language': 'en-GB'}, page_content='Guild of Chefs is warning it is independent restaurants that are being hardest hit.1 day ago2 days agoAirport revamp sees 74% rise in passenger seatingThe lounge overhaul means \"people do not end up sitting on the floor\", infrastructure minister says.2 days agoBritish Broadcasting CorporationHomeNewsSportBusinessInnovationCultureArtsTravelEarthAudioVideoLiveWeatherBBC ShopBritBoxBBC in other languagesFollow BBC on:Terms of UseSubscription TermsAbout the BBCPrivacy PolicyCookiesAccessibility HelpContact the BBCAdvertise with usDo not share or sell my infoBBC.com Help & FAQsContent IndexCopyright 2025 BBC. All rights reserved. The BBC is not responsible for the content of external sites.\\xa0Read about our approach to external linking.')]"
      ]
     },
     "execution_count": 47,
     "metadata": {},
     "output_type": "execute_result"
    }
   ],
   "source": [
    "splitted_docs"
   ]
  },
  {
   "cell_type": "code",
   "execution_count": 48,
   "id": "6d4828a0",
   "metadata": {},
   "outputs": [
    {
     "name": "stdout",
     "output_type": "stream",
     "text": [
      "World's first resort hospital opens in global gambling hub MacauSkip to contentBritish Broadcasting CorporationHomeNewsSportBusinessInnovationCultureArtsTravelEarthAudioVideoLiveHomeNewsIsrael-Gaza WarWar in UkraineUS & CanadaUKUK PoliticsEnglandN. IrelandN. Ireland PoliticsScotlandScotland PoliticsWalesWales PoliticsAfricaAsiaChinaIndiaAustraliaEuropeLatin AmericaMiddle EastIn PicturesBBC InDepthBBC VerifySportBusinessExecutive LoungeTechnology of BusinessFuture of BusinessInnovationTechnologyScience & HealthArtificial IntelligenceAI v the MindCultureFilm & TVMusicArt & DesignStyleBooksEntertainment NewsArtsArts in MotionTravelDestinationsAfricaAntarcticaAsiaAustralia and PacificCaribbean & BermudaCentral AmericaEuropeMiddle EastNorth AmericaSouth AmericaWorld’s TableCulture & ExperiencesAdventuresThe SpeciaListTo the Ends of The Earth EarthNatural WondersWeather & ScienceClimate SolutionsSustainable BusinessGreen LivingAudioPodcast CategoriesRadioAudio FAQsVideoBBC MaestroLiveLive\n",
      "\n",
      "\n",
      "CategoriesRadioAudio FAQsVideoBBC MaestroLiveLive NewsLive SportHomeNewsSportBusinessInnovationCultureArtsTravelEarthAudioVideoLiveWeatherNewslettersWorld's first resort hospital opens in gambling hub Macau50 minutes agoShareSaveOsmond ChiaBusiness reporterShareSaveMelco ResortsStudio City is a Hollywood-themed resort in MacauMacau, which overtook Las Vegas almost 20 years ago as the world's biggest gambling hub, is now trying to become a major centre for healthcare tourism.The special administrative region of China saw the opening this week of the first ever resort hospital to provide health screening, advanced scans and cosmetic procedures, as part of its luxury medical services.The facility is located in Macau's Studio City, a Hollywood-themed casino and entertainment resort owned by Hong Kong-based Melco Resorts and Entertainment.The project aims to promote medical tourism in Macau, create jobs and bring healthcare and leisure under one roof, said the resort chain's chief\n",
      "\n",
      "\n",
      "under one roof, said the resort chain's chief executive Lawrence Ho.The facility was opened in partnership with iRad Hospital, a private healthcare group in Hong Kong that specialises in MRI (Magnetic Resonance Imaging) scans.The \"revolutionary\" concept aims to attract regional and foreign visitors, encouraging longer stays and higher spending in the resort and the city, said Melco Resorts in a statement.Macau, which attracts almost 40 million visitors a year, offers an \"unparalleled opportunity\" to become a leading destination for medical tourism, said iRad's honorary chairman, Dennis Tam.The hospital project fits with Macau's economic diversification plans, said Mr Ho.The region has capitalised on its long history as a gambling centre, drawing visitors from mainland China, Hong Kong and other parts of Asia.Macau's gaming boom began in the early 2000s when authorities opened its gambling market to global casino operators.Since overtaking Las Vegas in gambling earnings Macau has has\n",
      "\n",
      "\n",
      "Las Vegas in gambling earnings Macau has has struggled to expand its economy beyond entertainment.Today, gaming-related taxes account for the majority of Macau government revenue.Macau's gambling-focused economy was hit hard when the Covid-19 pandemic forced the closure of its casinos, which sent revenues plunging.While it has now recovered, officials have been working to diversify Macau's economy away from gambling and to develop industries such as healthcare, technology and events.The global medical tourism industry is worth tens of billions of dollars and is projected to grow significantly over the next decade, according to market estimates.Asia has emerged as a major hub for medical tourism, with wealthy patients heading to South Korea for cosmetic surgeries and to Singapore's private hospitals for advanced medical treatments.India's hospitals are also popular destinations for medical tourists, offering cheaper treatments compared to Western countries.Meanwhile, Turkey has become\n",
      "\n",
      "\n",
      "to Western countries.Meanwhile, Turkey has become known for affordable medical procedures, including transplants and dentistry.International BusinessTravelHospitality industryMacauRelatedGold surges past $4,000 an ounce as uncertainty fuels rallyVape boss says allowing 'strict' ads would help smokers quitChinese EV giant BYD sees UK sales soar by 880%More from the BBC55 mins agoPartial wall collapse closes road for two monthsWork to repair the wall on Church Hill in Laxey is expected to take until the end of November.55 mins ago11 hrs agoIrish government announces Derry to Dublin flights The announcement was made by the Irish government as part of their 2026 budget.11 hrs ago18 hrs agoMore holidaymakers using AI to plan tripsAsking family and friends for recommendations and using guidebooks remain popular ways to plan a holiday, according to a new report from APTA. 18 hrs ago1 day agoShortage of chefs caused by 'perfect storm'The Oxford Guild of Chefs is warning it is independent\n",
      "\n",
      "\n",
      "Guild of Chefs is warning it is independent restaurants that are being hardest hit.1 day ago2 days agoAirport revamp sees 74% rise in passenger seatingThe lounge overhaul means \"people do not end up sitting on the floor\", infrastructure minister says.2 days agoBritish Broadcasting CorporationHomeNewsSportBusinessInnovationCultureArtsTravelEarthAudioVideoLiveWeatherBBC ShopBritBoxBBC in other languagesFollow BBC on:Terms of UseSubscription TermsAbout the BBCPrivacy PolicyCookiesAccessibility HelpContact the BBCAdvertise with usDo not share or sell my infoBBC.com Help & FAQsContent IndexCopyright 2025 BBC. All rights reserved. The BBC is not responsible for the content of external sites. Read about our approach to external linking.\n",
      "\n",
      "\n"
     ]
    }
   ],
   "source": [
    "for docs in splitted_docs:\n",
    "    print(docs.page_content + \"\\n\\n\") "
   ]
  },
  {
   "cell_type": "markdown",
   "id": "a6091e49",
   "metadata": {},
   "source": [
    "### Embed the content"
   ]
  },
  {
   "cell_type": "code",
   "execution_count": 49,
   "id": "a56d139e",
   "metadata": {},
   "outputs": [],
   "source": [
    "from langchain_google_genai import GoogleGenerativeAIEmbeddings\n",
    "\n",
    "google_embeddings = GoogleGenerativeAIEmbeddings(\n",
    "    model=\"models/gemini-embedding-001\", \n",
    "    google_api_key=os.getenv(\"GEMINI_API_KEY\"))"
   ]
  },
  {
   "cell_type": "markdown",
   "id": "ee4415e8",
   "metadata": {},
   "source": [
    "### Configure vector store DB and similarity search"
   ]
  },
  {
   "cell_type": "code",
   "execution_count": 50,
   "id": "94f45e50",
   "metadata": {},
   "outputs": [],
   "source": [
    "from langchain_community.vectorstores import FAISS\n",
    "vectorstoreDB = FAISS.from_documents(splitted_docs, google_embeddings)"
   ]
  },
  {
   "cell_type": "code",
   "execution_count": 51,
   "id": "93bc4785",
   "metadata": {},
   "outputs": [],
   "source": [
    "similarity_search_results = vectorstoreDB.similarity_search(\"Where is Macau?\", k = 2)"
   ]
  },
  {
   "cell_type": "code",
   "execution_count": 60,
   "id": "a04673a2",
   "metadata": {},
   "outputs": [
    {
     "data": {
      "text/plain": [
       "[Document(id='d1e36c8b-2d85-4342-98f8-35e207ac9f09', metadata={'source': 'https://www.bbc.com/news/articles/c5y8nr1dg54o', 'title': \"World's first resort hospital opens in global gambling hub Macau\", 'description': 'Macau is trying to diversify its economy away from gaming to become a major centre for healthcare tourism.', 'language': 'en-GB'}, page_content=\"World's first resort hospital opens in global gambling hub MacauSkip to contentBritish Broadcasting CorporationHomeNewsSportBusinessInnovationCultureArtsTravelEarthAudioVideoLiveHomeNewsIsrael-Gaza WarWar in UkraineUS & CanadaUKUK PoliticsEnglandN. IrelandN. Ireland PoliticsScotlandScotland PoliticsWalesWales PoliticsAfricaAsiaChinaIndiaAustraliaEuropeLatin AmericaMiddle EastIn PicturesBBC InDepthBBC VerifySportBusinessExecutive LoungeTechnology of BusinessFuture of BusinessInnovationTechnologyScience & HealthArtificial IntelligenceAI v the MindCultureFilm & TVMusicArt & DesignStyleBooksEntertainment NewsArtsArts in MotionTravelDestinationsAfricaAntarcticaAsiaAustralia and PacificCaribbean & BermudaCentral AmericaEuropeMiddle EastNorth AmericaSouth AmericaWorld’s TableCulture & ExperiencesAdventuresThe SpeciaListTo the Ends of The Earth\\xa0EarthNatural WondersWeather & ScienceClimate SolutionsSustainable BusinessGreen LivingAudioPodcast CategoriesRadioAudio FAQsVideoBBC MaestroLiveLive\"),\n",
       " Document(id='ab8944f8-4d9d-4c0e-8f6c-81ed037c6a49', metadata={'source': 'https://www.bbc.com/news/articles/c5y8nr1dg54o', 'title': \"World's first resort hospital opens in global gambling hub Macau\", 'description': 'Macau is trying to diversify its economy away from gaming to become a major centre for healthcare tourism.', 'language': 'en-GB'}, page_content=\"Las Vegas in gambling earnings Macau has has struggled to expand its economy beyond entertainment.Today, gaming-related taxes account for the majority of Macau government revenue.Macau's gambling-focused economy was hit hard when the Covid-19 pandemic forced the closure of its casinos, which sent revenues plunging.While it has now recovered, officials have been working to diversify Macau's economy away from gambling and to develop industries such as healthcare, technology and events.The global medical tourism industry is worth tens of billions of dollars and is projected to grow significantly over the next decade, according to market estimates.Asia has emerged as a major hub for medical tourism, with wealthy patients heading to South Korea for cosmetic surgeries and to Singapore's private hospitals for advanced medical treatments.India's hospitals are also popular destinations for medical tourists, offering cheaper treatments compared to Western countries.Meanwhile, Turkey has become\")]"
      ]
     },
     "execution_count": 60,
     "metadata": {},
     "output_type": "execute_result"
    }
   ],
   "source": [
    "similarity_search_results"
   ]
  },
  {
   "cell_type": "markdown",
   "id": "b8c44f51",
   "metadata": {},
   "source": [
    "### LLM"
   ]
  },
  {
   "cell_type": "code",
   "execution_count": null,
   "id": "3a842543",
   "metadata": {},
   "outputs": [],
   "source": [
    "from langchain_groq import ChatGroq\n",
    "llm = ChatGroq(\n",
    "    model=\"openai/gpt-oss-120b\",\n",
    "    temperature=0.1,\n",
    "    max_tokens=1024,\n",
    "    reasoning_format=\"parsed\"\n",
    ")"
   ]
  },
  {
   "cell_type": "markdown",
   "id": "b3843472",
   "metadata": {},
   "source": [
    "### Retriever and Document Chain"
   ]
  },
  {
   "cell_type": "code",
   "execution_count": 54,
   "id": "e65d0a68",
   "metadata": {},
   "outputs": [
    {
     "data": {
      "text/plain": [
       "RunnableBinding(bound=RunnableBinding(bound=RunnableAssign(mapper={\n",
       "  context: RunnableLambda(format_docs)\n",
       "}), kwargs={}, config={'run_name': 'format_inputs'}, config_factories=[])\n",
       "| ChatPromptTemplate(input_variables=['context'], input_types={}, partial_variables={}, messages=[HumanMessagePromptTemplate(prompt=PromptTemplate(input_variables=['context'], input_types={}, partial_variables={}, template='\\n    Answer the following questions based on the provided context:\\n    <context>\\n    {context}\\n    </context>\\n    '), additional_kwargs={})])\n",
       "| ChatGroq(client=<groq.resources.chat.completions.Completions object at 0x000002E5FB88DE10>, async_client=<groq.resources.chat.completions.AsyncCompletions object at 0x000002E5FB88E510>, model_name='openai/gpt-oss-120b', temperature=0.1, reasoning_format='parsed', model_kwargs={}, groq_api_key=SecretStr('**********'), max_tokens=1024)\n",
       "| StrOutputParser(), kwargs={}, config={'run_name': 'stuff_documents_chain'}, config_factories=[])"
      ]
     },
     "execution_count": 54,
     "metadata": {},
     "output_type": "execute_result"
    }
   ],
   "source": [
    "from langchain.chains.combine_documents import create_stuff_documents_chain\n",
    "from langchain.prompts import ChatPromptTemplate\n",
    "\n",
    "prompt_template = ChatPromptTemplate.from_template(\n",
    "    \"\"\"\n",
    "    Answer the following questions based on the provided context:\n",
    "    <context>\n",
    "    {context}\n",
    "    </context>\n",
    "    \"\"\"\n",
    ")\n",
    "\n",
    "document_chain = create_stuff_documents_chain(llm, prompt_template)\n",
    "document_chain"
   ]
  },
  {
   "cell_type": "markdown",
   "id": "e0ff297c",
   "metadata": {},
   "source": [
    "### create a retriever out of vector store DB "
   ]
  },
  {
   "cell_type": "code",
   "execution_count": 55,
   "id": "816809c6",
   "metadata": {},
   "outputs": [],
   "source": [
    "retriever = vectorstoreDB.as_retriever()"
   ]
  },
  {
   "cell_type": "code",
   "execution_count": 56,
   "id": "37003b95",
   "metadata": {},
   "outputs": [],
   "source": [
    "from langchain.chains import create_retrieval_chain\n",
    "retrieval_chain = create_retrieval_chain(retriever, document_chain)"
   ]
  },
  {
   "cell_type": "code",
   "execution_count": 57,
   "id": "349243ae",
   "metadata": {},
   "outputs": [
    {
     "data": {
      "text/plain": [
       "RunnableBinding(bound=RunnableAssign(mapper={\n",
       "  context: RunnableBinding(bound=RunnableLambda(lambda x: x['input'])\n",
       "           | VectorStoreRetriever(tags=['FAISS', 'GoogleGenerativeAIEmbeddings'], vectorstore=<langchain_community.vectorstores.faiss.FAISS object at 0x000002E5FB863FD0>, search_kwargs={}), kwargs={}, config={'run_name': 'retrieve_documents'}, config_factories=[])\n",
       "})\n",
       "| RunnableAssign(mapper={\n",
       "    answer: RunnableBinding(bound=RunnableBinding(bound=RunnableAssign(mapper={\n",
       "              context: RunnableLambda(format_docs)\n",
       "            }), kwargs={}, config={'run_name': 'format_inputs'}, config_factories=[])\n",
       "            | ChatPromptTemplate(input_variables=['context'], input_types={}, partial_variables={}, messages=[HumanMessagePromptTemplate(prompt=PromptTemplate(input_variables=['context'], input_types={}, partial_variables={}, template='\\n    Answer the following questions based on the provided context:\\n    <context>\\n    {context}\\n    </context>\\n    '), additional_kwargs={})])\n",
       "            | ChatGroq(client=<groq.resources.chat.completions.Completions object at 0x000002E5FB88DE10>, async_client=<groq.resources.chat.completions.AsyncCompletions object at 0x000002E5FB88E510>, model_name='openai/gpt-oss-120b', temperature=0.1, reasoning_format='parsed', model_kwargs={}, groq_api_key=SecretStr('**********'), max_tokens=1024)\n",
       "            | StrOutputParser(), kwargs={}, config={'run_name': 'stuff_documents_chain'}, config_factories=[])\n",
       "  }), kwargs={}, config={'run_name': 'retrieval_chain'}, config_factories=[])"
      ]
     },
     "execution_count": 57,
     "metadata": {},
     "output_type": "execute_result"
    }
   ],
   "source": [
    "retrieval_chain"
   ]
  },
  {
   "cell_type": "code",
   "execution_count": 61,
   "id": "d35ed808",
   "metadata": {},
   "outputs": [
    {
     "data": {
      "text/plain": [
       "'I’m ready to help, but I don’t see any specific questions listed after the prompt. Could you please provide the questions you’d like answered based on the context?'"
      ]
     },
     "execution_count": 61,
     "metadata": {},
     "output_type": "execute_result"
    }
   ],
   "source": [
    "response = retrieval_chain.invoke({\"input\": \"Tell me about the resort hospital in Macau.\"})\n",
    "response['answer']"
   ]
  },
  {
   "cell_type": "code",
   "execution_count": null,
   "id": "8d1dce7b",
   "metadata": {},
   "outputs": [],
   "source": []
  }
 ],
 "metadata": {
  "kernelspec": {
   "display_name": "venv",
   "language": "python",
   "name": "python3"
  },
  "language_info": {
   "codemirror_mode": {
    "name": "ipython",
    "version": 3
   },
   "file_extension": ".py",
   "mimetype": "text/x-python",
   "name": "python",
   "nbconvert_exporter": "python",
   "pygments_lexer": "ipython3",
   "version": "3.11.9"
  }
 },
 "nbformat": 4,
 "nbformat_minor": 5
}
